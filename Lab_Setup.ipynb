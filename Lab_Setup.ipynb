{
  "cells": [
    {
      "cell_type": "code",
      "source": [
        "# @title Install required packages (if needed)\n",
        "!pip install --upgrade --quiet google-cloud-storage gitpython"
      ],
      "metadata": {
        "id": "wFtQQnywhhRW"
      },
      "id": "wFtQQnywhhRW",
      "execution_count": null,
      "outputs": []
    },
    {
      "cell_type": "code",
      "source": [
        "# @title Set project variables\n",
        "\n",
        "PROJECT = !gcloud config get-value project\n",
        "PROJECT_ID = PROJECT[0]\n",
        "# define project information manually if the above code didn't work\n",
        "if PROJECT_ID == \"(unset)\":\n",
        "  PROJECT_ID = \"[your-project-id]\" # @param {type:\"string\"}\n",
        "\n",
        "print(f\"Project ID: {PROJECT_ID}\")\n",
        "\n",
        "LOCATION = \"us-central1\" # @param {type:\"string\"}\n",
        "REPO_URL = \"https://github.com/roitraining/flipped-class-genai-sec\" # @param {type:\"string\"}"
      ],
      "metadata": {
        "id": "rGjNwtEPh8EK"
      },
      "id": "rGjNwtEPh8EK",
      "execution_count": null,
      "outputs": []
    },
    {
      "cell_type": "code",
      "source": [],
      "metadata": {
        "id": "EuVYyKsMla2c"
      },
      "id": "EuVYyKsMla2c",
      "execution_count": null,
      "outputs": []
    },
    {
      "cell_type": "code",
      "id": "oxb2KMVvYqAX1EZs7mqdGmAm",
      "metadata": {
        "tags": [],
        "id": "oxb2KMVvYqAX1EZs7mqdGmAm"
      },
      "source": [
        "# @title Clone Github Repo and Copy files to Cloud Storage\n",
        "import os\n",
        "import uuid\n",
        "from google.cloud import storage\n",
        "from git import Repo\n",
        "\n",
        "# Step 1: Clone the GitHub repo (if not already cloned)\n",
        "repo_url = REPO_URL\n",
        "repo_folder = \"flipped-class-genai-sec\"\n",
        "\n",
        "if not os.path.exists(repo_folder):\n",
        "    Repo.clone_from(repo_url, repo_folder)\n",
        "    print(\"Repo cloned.\")\n",
        "else:\n",
        "    print(\"Repo already exists.\")\n",
        "\n",
        "# Step 2: Create a unique bucket name\n",
        "import random\n",
        "import string\n",
        "\n",
        "def generate_suffix(length=6):\n",
        "    return ''.join(random.choices(string.ascii_lowercase + string.digits, k=length))\n",
        "\n",
        "bucket_suffix = generate_suffix()\n",
        "bucket_name = f\"medical-records-{bucket_suffix}\"\n",
        "print(f\"Creating bucket: {bucket_name}\")\n",
        "\n",
        "\n",
        "# Step 3: Create the bucket\n",
        "storage_client = storage.Client(project=PROJECT_ID)\n",
        "bucket = storage_client.bucket(bucket_name)\n",
        "bucket.storage_class = \"STANDARD\"\n",
        "\n",
        "new_bucket = storage_client.create_bucket(bucket, location=LOCATION)\n",
        "print(f\"Bucket {bucket_name} created in {LOCATION}.\")\n",
        "\n",
        "# Step 4: Upload files from synthetic-medical-records folder to bucket\n",
        "local_folder = os.path.join(repo_folder, \"synthetic-medical-records\")\n",
        "\n",
        "for filename in os.listdir(local_folder):\n",
        "    file_path = os.path.join(local_folder, filename)\n",
        "\n",
        "    if os.path.isfile(file_path):\n",
        "        blob = new_bucket.blob(filename)\n",
        "        blob.upload_from_filename(file_path)\n",
        "        print(f\"Uploaded {filename}\")\n",
        "\n",
        "print(\"All files uploaded successfully.\")\n"
      ],
      "execution_count": null,
      "outputs": []
    }
  ],
  "metadata": {
    "kernelspec": {
      "display_name": "Python 3",
      "language": "python",
      "name": "python3"
    },
    "language_info": {
      "codemirror_mode": {
        "name": "ipython",
        "version": 3
      },
      "file_extension": ".py",
      "mimetype": "text/x-python",
      "name": "python",
      "nbconvert_exporter": "python",
      "pygments_lexer": "ipython3",
      "version": "3.10.10"
    },
    "colab": {
      "provenance": [],
      "name": "Lab-1-Setup"
    }
  },
  "nbformat": 4,
  "nbformat_minor": 5
}
